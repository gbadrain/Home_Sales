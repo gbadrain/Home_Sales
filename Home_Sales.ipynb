{
 "cells": [
  {
   "cell_type": "code",
   "execution_count": 2,
   "metadata": {
    "colab": {
     "base_uri": "https://localhost:8080/"
    },
    "id": "fcO71n3N2sfQ",
    "outputId": "16d1fe41-e1b6-4916-f206-80206eebe5dd"
   },
   "outputs": [
    {
     "name": "stderr",
     "output_type": "stream",
     "text": [
      "==> Updating Homebrew...\n"
     ]
    },
    {
     "name": "stdout",
     "output_type": "stream",
     "text": [
      "Already up-to-date.\n"
     ]
    },
    {
     "name": "stderr",
     "output_type": "stream",
     "text": [
      "Warning: openjdk 23.0.2 is already installed and up-to-date.\n",
      "To reinstall 23.0.2, run:\n",
      "  brew reinstall openjdk\n",
      "Warning: apache-spark 3.5.5 is already installed and up-to-date.\n",
      "To reinstall 3.5.5, run:\n",
      "  brew reinstall apache-spark\n"
     ]
    },
    {
     "name": "stdout",
     "output_type": "stream",
     "text": [
      "==> Downloading https://ghcr.io/v2/homebrew/core/wget/manifests/1.25.0\n",
      "==> Fetching dependencies for wget: libidn2\n",
      "==> Downloading https://ghcr.io/v2/homebrew/core/libidn2/manifests/2.3.8\n",
      "==> Fetching libidn2\n",
      "==> Downloading https://ghcr.io/v2/homebrew/core/libidn2/blobs/sha256:ef2c85790a55f54f58fceb849e1ee46f2b06ebe516c83043e68c979e47934e6f\n",
      "==> Fetching wget\n",
      "==> Downloading https://ghcr.io/v2/homebrew/core/wget/blobs/sha256:5650778a8e7a60c2dea9412dd21d2f5e8ff4f224dbefbdf54924b99012062edc\n",
      "==> Installing dependencies for wget: libidn2\n",
      "==> Installing wget dependency: libidn2\n",
      "==> Downloading https://ghcr.io/v2/homebrew/core/libidn2/manifests/2.3.8\n",
      "Already downloaded: /Users/GURU/Library/Caches/Homebrew/downloads/f30f50fbde4bff9a71de54d684e482d7da3432656d680b97441163c6e5665468--libidn2-2.3.8.bottle_manifest.json\n",
      "==> Pouring libidn2--2.3.8.sonoma.bottle.tar.gz\n",
      "🍺  /usr/local/Cellar/libidn2/2.3.8: 80 files, 838.2KB\n",
      "==> Installing wget\n",
      "==> Pouring wget--1.25.0.sonoma.bottle.tar.gz\n",
      "🍺  /usr/local/Cellar/wget/1.25.0: 92 files, 4.5MB\n",
      "==> Running `brew cleanup wget`...\n",
      "Disable this behaviour by setting HOMEBREW_NO_INSTALL_CLEANUP.\n",
      "Hide these hints with HOMEBREW_NO_ENV_HINTS (see `man brew`).\n"
     ]
    },
    {
     "name": "stderr",
     "output_type": "stream",
     "text": [
      "bash: line 10: /Users/GURU/.zshrc: Permission denied\n",
      "bash: line 11: /Users/GURU/.zshrc: Permission denied\n",
      "bash: line 12: /Users/GURU/.zshrc: Permission denied\n"
     ]
    },
    {
     "name": "stdout",
     "output_type": "stream",
     "text": [
      "Java Version:\n"
     ]
    },
    {
     "name": "stderr",
     "output_type": "stream",
     "text": [
      "java version \"1.8.0_371\"\n",
      "Java(TM) SE Runtime Environment (build 1.8.0_371-b11)\n",
      "Java HotSpot(TM) 64-Bit Server VM (build 25.371-b11, mixed mode)\n"
     ]
    },
    {
     "name": "stdout",
     "output_type": "stream",
     "text": [
      "Spark Version:\n"
     ]
    },
    {
     "name": "stderr",
     "output_type": "stream",
     "text": [
      "Welcome to\n",
      "      ____              __\n",
      "     / __/__  ___ _____/ /__\n",
      "    _\\ \\/ _ \\/ _ `/ __/  '_/\n",
      "   /___/ .__/\\_,_/_/ /_/\\_\\   version 3.5.5\n",
      "      /_/\n",
      "                        \n",
      "Using Scala version 2.12.18, OpenJDK 64-Bit Server VM, 17.0.15\n",
      "Branch HEAD\n",
      "Compiled by user ubuntu on 2025-02-23T20:30:46Z\n",
      "Revision 7c29c664cdc9321205a98a14858aaf8daaa19db2\n",
      "Url https://github.com/apache/spark\n",
      "Type --help for more information.\n"
     ]
    },
    {
     "name": "stdout",
     "output_type": "stream",
     "text": [
      "Setup complete! 🚀\n"
     ]
    }
   ],
   "source": [
    "%%bash\n",
    "\n",
    "# Use the spark_version variable from the notebook\n",
    "SPARK_VERSION=\"${spark_version#spark-}\"\n",
    "\n",
    "# Update Homebrew and install dependencies\n",
    "brew update\n",
    "brew install openjdk apache-spark wget\n",
    "\n",
    "# Set environment variables\n",
    "echo 'export JAVA_HOME=\"/usr/local/opt/openjdk\"' >> ~/.zshrc\n",
    "echo 'export SPARK_HOME=\"/usr/local/Cellar/apache-spark/'\"$SPARK_VERSION\"'/libexec\"' >> ~/.zshrc\n",
    "echo 'export PATH=\"$JAVA_HOME/bin:$SPARK_HOME/bin:$PATH\"' >> ~/.zshrc\n",
    "source ~/.zshrc\n",
    "\n",
    "# Verify installation\n",
    "echo \"Java Version:\"\n",
    "java -version\n",
    "\n",
    "echo \"Spark Version:\"\n",
    "pyspark --version\n",
    "\n",
    "echo \"Setup complete! 🚀\"\n"
   ]
  },
  {
   "cell_type": "code",
   "execution_count": 3,
   "metadata": {
    "id": "2XbWNf1Te5fM"
   },
   "outputs": [
    {
     "name": "stderr",
     "output_type": "stream",
     "text": [
      "Setting default log level to \"WARN\".\n",
      "To adjust logging level use sc.setLogLevel(newLevel). For SparkR, use setLogLevel(newLevel).\n",
      "25/05/09 11:58:53 WARN NativeCodeLoader: Unable to load native-hadoop library for your platform... using builtin-java classes where applicable\n"
     ]
    }
   ],
   "source": [
    "# Import packages\n",
    "from pyspark.sql import SparkSession\n",
    "from pyspark.sql.types import IntegerType\n",
    "import time\n",
    "import datetime\n",
    "from pyspark.sql.functions import year, to_date, regexp_replace\n",
    "\n",
    "# Create a SparkSession\n",
    "spark = SparkSession.builder.appName(\"SparkSQL\").getOrCreate()"
   ]
  },
  {
   "cell_type": "code",
   "execution_count": 4,
   "metadata": {
    "colab": {
     "base_uri": "https://localhost:8080/"
    },
    "id": "wOJqxG_RPSwp",
    "outputId": "c03a1b7e-3cd4-462d-c17b-cd6f9e7d39a9"
   },
   "outputs": [
    {
     "name": "stderr",
     "output_type": "stream",
     "text": [
      "                                                                                \r"
     ]
    },
    {
     "name": "stdout",
     "output_type": "stream",
     "text": [
      "+--------------------+----------+----------+------+--------+---------+-----------+--------+------+----------+----+\n",
      "|                  id|      date|date_built| price|bedrooms|bathrooms|sqft_living|sqft_lot|floors|waterfront|view|\n",
      "+--------------------+----------+----------+------+--------+---------+-----------+--------+------+----------+----+\n",
      "|f8a53099-ba1c-47d...|2022-04-08|      2016|936923|       4|        3|       3167|   11733|     2|         1|  76|\n",
      "|7530a2d8-1ae3-451...|2021-06-13|      2013|379628|       2|        2|       2235|   14384|     1|         0|  23|\n",
      "|43de979c-0bf0-4c9...|2019-04-12|      2014|417866|       2|        2|       2127|   10575|     2|         0|   0|\n",
      "|b672c137-b88c-48b...|2019-10-16|      2016|239895|       2|        2|       1631|   11149|     2|         0|   0|\n",
      "|e0726d4d-d595-407...|2022-01-08|      2017|424418|       3|        2|       2249|   13878|     2|         0|   4|\n",
      "|5aa00529-0533-46b...|2019-01-30|      2017|218712|       2|        3|       1965|   14375|     2|         0|   7|\n",
      "|131492a1-72e2-4a8...|2020-02-08|      2017|419199|       2|        3|       2062|    8876|     2|         0|   6|\n",
      "|8d54a71b-c520-44e...|2019-07-21|      2010|323956|       2|        3|       1506|   11816|     1|         0|  25|\n",
      "|e81aacfe-17fe-46b...|2020-06-16|      2016|181925|       3|        3|       2137|   11709|     2|         0|  22|\n",
      "|2ed8d509-7372-46d...|2021-08-06|      2015|258710|       3|        3|       1918|    9666|     1|         0|  25|\n",
      "|f876d86f-3c9f-42b...|2019-02-27|      2011|167864|       3|        3|       2471|   13924|     2|         0|  15|\n",
      "|0a2bd445-8508-4d8...|2021-12-30|      2014|337527|       2|        3|       1926|   12556|     1|         0|  23|\n",
      "|941bad30-eb49-4a7...|2020-05-09|      2015|229896|       3|        3|       2197|    8641|     1|         0|   3|\n",
      "|dd61eb34-6589-4c0...|2021-07-25|      2016|210247|       3|        2|       1672|   11986|     2|         0|  28|\n",
      "|f1e4cef7-d151-439...|2019-02-01|      2011|398667|       2|        3|       2331|   11356|     1|         0|   7|\n",
      "|ea620c7b-c2f7-4c6...|2021-05-31|      2011|437958|       3|        3|       2356|   11052|     1|         0|  26|\n",
      "|f233cb41-6f33-4b0...|2021-07-18|      2016|437375|       4|        3|       1704|   11721|     2|         0|  34|\n",
      "|c797ca12-52cd-4b1...|2019-06-08|      2015|288650|       2|        3|       2100|   10419|     2|         0|   7|\n",
      "|0cfe57f3-28c2-472...|2019-10-04|      2015|308313|       3|        3|       1960|    9453|     2|         0|   2|\n",
      "|4566cd2a-ac6e-435...|2019-07-15|      2016|177541|       3|        3|       2130|   10517|     2|         0|  25|\n",
      "+--------------------+----------+----------+------+--------+---------+-----------+--------+------+----------+----+\n",
      "only showing top 20 rows\n",
      "\n"
     ]
    }
   ],
   "source": [
    "# 1. Read in the AWS S3 bucket into a DataFrame.\n",
    "from pyspark import SparkFiles\n",
    "url = \"https://2u-data-curriculum-team.s3.amazonaws.com/dataviz-classroom/v1.2/22-big-data/home_sales_revised.csv\"\n",
    "\n",
    "spark.sparkContext.addFile(url)\n",
    "df = spark.read.csv(SparkFiles.get(\"home_sales_revised.csv\"), sep=\",\", header=True)\n",
    "\n",
    "# Show DataFrame\n",
    "df.show()"
   ]
  },
  {
   "cell_type": "code",
   "execution_count": null,
   "metadata": {
    "colab": {
     "base_uri": "https://localhost:8080/"
    },
    "id": "l9aFpHWu5ffS",
    "outputId": "6b7d08a7-579b-4788-8b98-ed56ed5418b0"
   },
   "outputs": [
    {
     "name": "stdout",
     "output_type": "stream",
     "text": [
      "+--------------------+----------+----------+------+--------+---------+-----------+--------+------+----------+----+---------+\n",
      "|                  id|      date|date_built| price|bedrooms|bathrooms|sqft_living|sqft_lot|floors|waterfront|view|year_sold|\n",
      "+--------------------+----------+----------+------+--------+---------+-----------+--------+------+----------+----+---------+\n",
      "|f8a53099-ba1c-47d...|2022-04-08|      2016|936923|       4|        3|       3167|   11733|     2|         1|  76|     2022|\n",
      "|7530a2d8-1ae3-451...|2021-06-13|      2013|379628|       2|        2|       2235|   14384|     1|         0|  23|     2021|\n",
      "|43de979c-0bf0-4c9...|2019-04-12|      2014|417866|       2|        2|       2127|   10575|     2|         0|   0|     2019|\n",
      "|b672c137-b88c-48b...|2019-10-16|      2016|239895|       2|        2|       1631|   11149|     2|         0|   0|     2019|\n",
      "|e0726d4d-d595-407...|2022-01-08|      2017|424418|       3|        2|       2249|   13878|     2|         0|   4|     2022|\n",
      "|5aa00529-0533-46b...|2019-01-30|      2017|218712|       2|        3|       1965|   14375|     2|         0|   7|     2019|\n",
      "|131492a1-72e2-4a8...|2020-02-08|      2017|419199|       2|        3|       2062|    8876|     2|         0|   6|     2020|\n",
      "|8d54a71b-c520-44e...|2019-07-21|      2010|323956|       2|        3|       1506|   11816|     1|         0|  25|     2019|\n",
      "|e81aacfe-17fe-46b...|2020-06-16|      2016|181925|       3|        3|       2137|   11709|     2|         0|  22|     2020|\n",
      "|2ed8d509-7372-46d...|2021-08-06|      2015|258710|       3|        3|       1918|    9666|     1|         0|  25|     2021|\n",
      "|f876d86f-3c9f-42b...|2019-02-27|      2011|167864|       3|        3|       2471|   13924|     2|         0|  15|     2019|\n",
      "|0a2bd445-8508-4d8...|2021-12-30|      2014|337527|       2|        3|       1926|   12556|     1|         0|  23|     2021|\n",
      "|941bad30-eb49-4a7...|2020-05-09|      2015|229896|       3|        3|       2197|    8641|     1|         0|   3|     2020|\n",
      "|dd61eb34-6589-4c0...|2021-07-25|      2016|210247|       3|        2|       1672|   11986|     2|         0|  28|     2021|\n",
      "|f1e4cef7-d151-439...|2019-02-01|      2011|398667|       2|        3|       2331|   11356|     1|         0|   7|     2019|\n",
      "|ea620c7b-c2f7-4c6...|2021-05-31|      2011|437958|       3|        3|       2356|   11052|     1|         0|  26|     2021|\n",
      "|f233cb41-6f33-4b0...|2021-07-18|      2016|437375|       4|        3|       1704|   11721|     2|         0|  34|     2021|\n",
      "|c797ca12-52cd-4b1...|2019-06-08|      2015|288650|       2|        3|       2100|   10419|     2|         0|   7|     2019|\n",
      "|0cfe57f3-28c2-472...|2019-10-04|      2015|308313|       3|        3|       1960|    9453|     2|         0|   2|     2019|\n",
      "|4566cd2a-ac6e-435...|2019-07-15|      2016|177541|       3|        3|       2130|   10517|     2|         0|  25|     2019|\n",
      "+--------------------+----------+----------+------+--------+---------+-----------+--------+------+----------+----+---------+\n",
      "only showing top 20 rows\n",
      "\n"
     ]
    }
   ],
   "source": [
    "# revise original column data formats:\n",
    "# id remains unrevised\n",
    "df = df.withColumn(\"year_sold\", year(df['date']))\n",
    "# date remains unrevise\n",
    "df = df.withColumn(\"date_built\", year(df['date_built']))\n",
    "df = df.withColumn(\"price\", df[\"price\"].cast(IntegerType()))\n",
    "df = df.withColumn(\"bedrooms\", df[\"bedrooms\"].cast(IntegerType()))\n",
    "df = df.withColumn(\"bathrooms\", df[\"bathrooms\"].cast(IntegerType()))\n",
    "df = df.withColumn(\"sqft_living\", df[\"sqft_living\"].cast(IntegerType()))\n",
    "df = df.withColumn(\"sqft_lot\", df[\"sqft_lot\"].cast(IntegerType()))\n",
    "df = df.withColumn(\"floors\", df[\"floors\"].cast(IntegerType()))\n",
    "df.show()"
   ]
  },
  {
   "cell_type": "code",
   "execution_count": 6,
   "metadata": {
    "colab": {
     "base_uri": "https://localhost:8080/"
    },
    "id": "RoljcJ7WPpnm",
    "outputId": "6ea2b34a-b088-4d70-c956-2e9ec6ec4068"
   },
   "outputs": [
    {
     "name": "stdout",
     "output_type": "stream",
     "text": [
      "root\n",
      " |-- id: string (nullable = true)\n",
      " |-- date: string (nullable = true)\n",
      " |-- date_built: integer (nullable = true)\n",
      " |-- price: integer (nullable = true)\n",
      " |-- bedrooms: integer (nullable = true)\n",
      " |-- bathrooms: integer (nullable = true)\n",
      " |-- sqft_living: integer (nullable = true)\n",
      " |-- sqft_lot: integer (nullable = true)\n",
      " |-- floors: integer (nullable = true)\n",
      " |-- waterfront: string (nullable = true)\n",
      " |-- view: string (nullable = true)\n",
      " |-- year_sold: integer (nullable = true)\n",
      "\n"
     ]
    }
   ],
   "source": [
    "# 2. Create a temporary view of the DataFrame.\n",
    "df.createOrReplaceTempView('home_sales')\n",
    "df.printSchema()"
   ]
  },
  {
   "cell_type": "code",
   "execution_count": 7,
   "metadata": {
    "colab": {
     "base_uri": "https://localhost:8080/"
    },
    "id": "L6fkwOeOmqvq",
    "outputId": "85df3ada-082d-45b1-9fab-f668d2dd334f"
   },
   "outputs": [
    {
     "name": "stderr",
     "output_type": "stream",
     "text": [
      "[Stage 3:>                                                          (0 + 1) / 1]\r"
     ]
    },
    {
     "name": "stdout",
     "output_type": "stream",
     "text": [
      "+---------+---------+\n",
      "|year_sold| avgPrice|\n",
      "+---------+---------+\n",
      "|     2022|296363.88|\n",
      "|     2021|301819.44|\n",
      "|     2020|298353.78|\n",
      "|     2019|300263.70|\n",
      "+---------+---------+\n",
      "\n"
     ]
    },
    {
     "name": "stderr",
     "output_type": "stream",
     "text": [
      "                                                                                \r"
     ]
    }
   ],
   "source": [
    "# 3. What is the average price for a four bedroom house sold in each year rounded to two decimal places?\n",
    "spark.sql(\"\"\"\n",
    "select year_sold, cast(AVG(price) as numeric (9,2)) as avgPrice\n",
    "from home_sales\n",
    "where bedrooms==4\n",
    "group by year_sold\n",
    "order by year_sold DESC\n",
    "\"\"\"\n",
    ").show()"
   ]
  },
  {
   "cell_type": "code",
   "execution_count": 8,
   "metadata": {
    "colab": {
     "base_uri": "https://localhost:8080/"
    },
    "id": "l8p_tUS8h8it",
    "outputId": "8e6648f4-fb96-464b-d07b-82937864f863"
   },
   "outputs": [
    {
     "name": "stdout",
     "output_type": "stream",
     "text": [
      "+----------+---------+\n",
      "|date_built| avgPrice|\n",
      "+----------+---------+\n",
      "|      2017|292676.79|\n",
      "|      2016|290555.07|\n",
      "|      2015|288770.30|\n",
      "|      2014|290852.27|\n",
      "|      2013|295962.27|\n",
      "|      2012|293683.19|\n",
      "|      2011|291117.47|\n",
      "|      2010|292859.62|\n",
      "+----------+---------+\n",
      "\n"
     ]
    }
   ],
   "source": [
    "# 4. What is the average price of a home for each date the home was built that have 3 bedrooms and 3 bathrooms rounded to two decimal places?\n",
    "spark.sql(\"\"\"\n",
    "select date_built, cast(AVG(price) as numeric (9,2)) as avgPrice\n",
    "from home_sales\n",
    "where bedrooms==3 and bathrooms==3\n",
    "group by date_built\n",
    "order by date_built DESC\n",
    "\"\"\"\n",
    ").show()\n"
   ]
  },
  {
   "cell_type": "code",
   "execution_count": 9,
   "metadata": {
    "colab": {
     "base_uri": "https://localhost:8080/"
    },
    "id": "Y-Eytz64liDU",
    "outputId": "b96ea7e8-6010-47ec-d903-cac8ad846d8c"
   },
   "outputs": [
    {
     "name": "stdout",
     "output_type": "stream",
     "text": [
      "+----------+---------+\n",
      "|year_built| avgPrice|\n",
      "+----------+---------+\n",
      "|      2017|280317.58|\n",
      "|      2016|293965.10|\n",
      "|      2015|297609.97|\n",
      "|      2014|298264.72|\n",
      "|      2013|303676.79|\n",
      "|      2012|307539.97|\n",
      "|      2011|276553.81|\n",
      "|      2010|285010.22|\n",
      "+----------+---------+\n",
      "\n"
     ]
    }
   ],
   "source": [
    "# 5. What is the average price of a home for each year built that have 3 bedrooms, 3 bathrooms, with two floors,\n",
    "# and are greater than or equal to 2,000 square feet rounded to two decimal places?\n",
    "spark.sql(\"\"\"\n",
    "select date_built as year_built, cast(AVG(price) as numeric (9,2)) as avgPrice\n",
    "from home_sales\n",
    "where bedrooms==3 and bathrooms==3 and floors==2 and sqft_living>= 2000\n",
    "group by date_built\n",
    "order by date_built DESC\n",
    "\"\"\"\n",
    ").show()\n"
   ]
  },
  {
   "cell_type": "code",
   "execution_count": 10,
   "metadata": {
    "colab": {
     "base_uri": "https://localhost:8080/"
    },
    "id": "GUrfgOX1pCRd",
    "outputId": "c469a722-6dc7-4813-f2e0-d446ff0f099f"
   },
   "outputs": [
    {
     "name": "stdout",
     "output_type": "stream",
     "text": [
      "+----+----------+\n",
      "|view|  avgPrice|\n",
      "+----+----------+\n",
      "|  99|1061201.42|\n",
      "|  98|1053739.33|\n",
      "|  97|1129040.15|\n",
      "|  96|1017815.92|\n",
      "|  95|1054325.60|\n",
      "|  94|1033536.20|\n",
      "|  93|1026006.06|\n",
      "|  92| 970402.55|\n",
      "|  91|1137372.73|\n",
      "|  90|1062654.16|\n",
      "|  89|1107839.15|\n",
      "|  88|1031719.35|\n",
      "|  87|1072285.20|\n",
      "|  86|1070444.25|\n",
      "|  85|1056336.74|\n",
      "|  84|1117233.13|\n",
      "|  83|1033965.93|\n",
      "|  82|1063498.00|\n",
      "|  81|1053472.79|\n",
      "|  80| 991767.38|\n",
      "|  79|1009565.08|\n",
      "|  78|1080649.37|\n",
      "|  77|1076205.56|\n",
      "|  76|1058802.78|\n",
      "|  75|1114042.94|\n",
      "|  74| 745077.00|\n",
      "|  73| 752861.18|\n",
      "|  72| 780914.67|\n",
      "|  71| 775651.10|\n",
      "|  70| 695865.58|\n",
      "|  69| 750537.94|\n",
      "|  68| 716785.44|\n",
      "|  67| 737970.96|\n",
      "|  66| 712475.00|\n",
      "|  65| 736679.93|\n",
      "|  64| 767036.67|\n",
      "|  63| 711614.55|\n",
      "|  62| 759150.14|\n",
      "|  61| 746877.59|\n",
      "|  60| 754939.65|\n",
      "|  59| 791453.00|\n",
      "|  58| 759764.65|\n",
      "|  57| 734340.50|\n",
      "|  56| 718176.40|\n",
      "|  55| 771153.32|\n",
      "|  54| 798684.82|\n",
      "|  53| 755214.80|\n",
      "|  52| 733780.26|\n",
      "|  51| 788128.21|\n",
      "| 100|1026669.50|\n",
      "+----+----------+\n",
      "\n",
      "--- 0.6328651905059814 seconds ---\n"
     ]
    }
   ],
   "source": [
    "# 6. What is the \"view\" rating for the average price of a home, rounded to two decimal places, where the homes are greater than\n",
    "# or equal to $350,000? Although this is a small dataset, determine the run time for this query.\n",
    "\n",
    "start_time = time.time()\n",
    "\n",
    "spark.sql(\"\"\"\n",
    "select DISTINCT view, cast(AVG(price) as numeric (9,2)) as avgPrice\n",
    "from home_sales\n",
    "group by view\n",
    "having avgPrice >= 350000\n",
    "order by view DESC\n",
    "\"\"\"\n",
    ").show(100)\n",
    "\n",
    "print(\"--- %s seconds ---\" % (time.time() - start_time))"
   ]
  },
  {
   "cell_type": "code",
   "execution_count": 11,
   "metadata": {
    "colab": {
     "base_uri": "https://localhost:8080/"
    },
    "id": "KAhk3ZD2tFy8",
    "outputId": "25bf2806-54f5-4a09-d105-16f135e71b05"
   },
   "outputs": [
    {
     "data": {
      "text/plain": [
       "DataFrame[]"
      ]
     },
     "execution_count": 11,
     "metadata": {},
     "output_type": "execute_result"
    }
   ],
   "source": [
    "# 7. Cache the the temporary table home_sales.\n",
    "spark.sql('cache table home_sales')"
   ]
  },
  {
   "cell_type": "code",
   "execution_count": 12,
   "metadata": {
    "colab": {
     "base_uri": "https://localhost:8080/"
    },
    "id": "4opVhbvxtL-i",
    "outputId": "86d8d884-5fc9-4841-c13d-2e3d75272ba8"
   },
   "outputs": [
    {
     "data": {
      "text/plain": [
       "True"
      ]
     },
     "execution_count": 12,
     "metadata": {},
     "output_type": "execute_result"
    }
   ],
   "source": [
    "# 8. Check if the table is cached.\n",
    "spark.catalog.isCached('home_sales')"
   ]
  },
  {
   "cell_type": "code",
   "execution_count": 13,
   "metadata": {
    "colab": {
     "base_uri": "https://localhost:8080/"
    },
    "id": "5GnL46lwTSEk",
    "outputId": "bcebbab2-37d4-441d-ad9e-4a1d17da5a31"
   },
   "outputs": [
    {
     "name": "stdout",
     "output_type": "stream",
     "text": [
      "+----+----------+\n",
      "|view|  avgPrice|\n",
      "+----+----------+\n",
      "|  99|1061201.42|\n",
      "|  98|1053739.33|\n",
      "|  97|1129040.15|\n",
      "|  96|1017815.92|\n",
      "|  95|1054325.60|\n",
      "|  94|1033536.20|\n",
      "|  93|1026006.06|\n",
      "|  92| 970402.55|\n",
      "|  91|1137372.73|\n",
      "|  90|1062654.16|\n",
      "|  89|1107839.15|\n",
      "|  88|1031719.35|\n",
      "|  87|1072285.20|\n",
      "|  86|1070444.25|\n",
      "|  85|1056336.74|\n",
      "|  84|1117233.13|\n",
      "|  83|1033965.93|\n",
      "|  82|1063498.00|\n",
      "|  81|1053472.79|\n",
      "|  80| 991767.38|\n",
      "|  79|1009565.08|\n",
      "|  78|1080649.37|\n",
      "|  77|1076205.56|\n",
      "|  76|1058802.78|\n",
      "|  75|1114042.94|\n",
      "|  74| 745077.00|\n",
      "|  73| 752861.18|\n",
      "|  72| 780914.67|\n",
      "|  71| 775651.10|\n",
      "|  70| 695865.58|\n",
      "|  69| 750537.94|\n",
      "|  68| 716785.44|\n",
      "|  67| 737970.96|\n",
      "|  66| 712475.00|\n",
      "|  65| 736679.93|\n",
      "|  64| 767036.67|\n",
      "|  63| 711614.55|\n",
      "|  62| 759150.14|\n",
      "|  61| 746877.59|\n",
      "|  60| 754939.65|\n",
      "|  59| 791453.00|\n",
      "|  58| 759764.65|\n",
      "|  57| 734340.50|\n",
      "|  56| 718176.40|\n",
      "|  55| 771153.32|\n",
      "|  54| 798684.82|\n",
      "|  53| 755214.80|\n",
      "|  52| 733780.26|\n",
      "|  51| 788128.21|\n",
      "| 100|1026669.50|\n",
      "+----+----------+\n",
      "\n",
      "--- 0.40729713439941406 seconds ---\n"
     ]
    }
   ],
   "source": [
    "# 9. Using the cached data, run the query that filters out the view ratings with average price\n",
    "#  greater than or equal to $350,000. Determine the runtime and compare it to uncached runtime.\n",
    "\n",
    "start_time = time.time()\n",
    "\n",
    "spark.sql(\"\"\"\n",
    "select DISTINCT view, cast(AVG(price) as numeric (9,2)) as avgPrice\n",
    "from home_sales\n",
    "group by view\n",
    "having avgPrice >= 350000\n",
    "order by view DESC\n",
    "\"\"\"\n",
    ").show(100)\n",
    "\n",
    "\n",
    "print(\"--- %s seconds ---\" % (time.time() - start_time))\n"
   ]
  },
  {
   "cell_type": "code",
   "execution_count": 14,
   "metadata": {
    "id": "Qm12WN9isHBR"
   },
   "outputs": [
    {
     "name": "stderr",
     "output_type": "stream",
     "text": [
      "                                                                                \r"
     ]
    }
   ],
   "source": [
    "# 10. Partition by the \"date_built\" field on the formatted parquet home sales data\n",
    "df.write.partitionBy('date_built').parquet('home_sales',mode='overwrite')"
   ]
  },
  {
   "cell_type": "code",
   "execution_count": 15,
   "metadata": {
    "id": "AZ7BgY61sRqY"
   },
   "outputs": [],
   "source": [
    "# 11. Read the parquet formatted data.\n",
    "p_df=spark.read.parquet('home_sales')"
   ]
  },
  {
   "cell_type": "code",
   "execution_count": 16,
   "metadata": {
    "id": "J6MJkHfvVcvh"
   },
   "outputs": [],
   "source": [
    "# 12. Create a temporary table for the parquet data.\n",
    "p_df.createOrReplaceTempView('p_home_sales')"
   ]
  },
  {
   "cell_type": "code",
   "execution_count": 17,
   "metadata": {
    "colab": {
     "base_uri": "https://localhost:8080/"
    },
    "id": "G_Vhb52rU1Sn",
    "outputId": "0cb4a3a9-7934-475a-abce-9a3f7a795c8f"
   },
   "outputs": [
    {
     "name": "stdout",
     "output_type": "stream",
     "text": [
      "+----+----------+\n",
      "|view|  avgPrice|\n",
      "+----+----------+\n",
      "|  99|1061201.42|\n",
      "|  98|1053739.33|\n",
      "|  97|1129040.15|\n",
      "|  96|1017815.92|\n",
      "|  95|1054325.60|\n",
      "|  94|1033536.20|\n",
      "|  93|1026006.06|\n",
      "|  92| 970402.55|\n",
      "|  91|1137372.73|\n",
      "|  90|1062654.16|\n",
      "|  89|1107839.15|\n",
      "|  88|1031719.35|\n",
      "|  87|1072285.20|\n",
      "|  86|1070444.25|\n",
      "|  85|1056336.74|\n",
      "|  84|1117233.13|\n",
      "|  83|1033965.93|\n",
      "|  82|1063498.00|\n",
      "|  81|1053472.79|\n",
      "|  80| 991767.38|\n",
      "|  79|1009565.08|\n",
      "|  78|1080649.37|\n",
      "|  77|1076205.56|\n",
      "|  76|1058802.78|\n",
      "|  75|1114042.94|\n",
      "|  74| 745077.00|\n",
      "|  73| 752861.18|\n",
      "|  72| 780914.67|\n",
      "|  71| 775651.10|\n",
      "|  70| 695865.58|\n",
      "|  69| 750537.94|\n",
      "|  68| 716785.44|\n",
      "|  67| 737970.96|\n",
      "|  66| 712475.00|\n",
      "|  65| 736679.93|\n",
      "|  64| 767036.67|\n",
      "|  63| 711614.55|\n",
      "|  62| 759150.14|\n",
      "|  61| 746877.59|\n",
      "|  60| 754939.65|\n",
      "|  59| 791453.00|\n",
      "|  58| 759764.65|\n",
      "|  57| 734340.50|\n",
      "|  56| 718176.40|\n",
      "|  55| 771153.32|\n",
      "|  54| 798684.82|\n",
      "|  53| 755214.80|\n",
      "|  52| 733780.26|\n",
      "|  51| 788128.21|\n",
      "| 100|1026669.50|\n",
      "+----+----------+\n",
      "\n",
      "--- 0.8713531494140625 seconds ---\n"
     ]
    }
   ],
   "source": [
    "# 13. Run the query that filters out the view ratings with average price of greater than or equal to $350,000\n",
    "# with the parquet DataFrame. Round your average to two decimal places.\n",
    "# Determine the runtime and compare it to the cached version.\n",
    "\n",
    "start_time = time.time()\n",
    "\n",
    "spark.sql(\"\"\"\n",
    "select DISTINCT view, cast(AVG(price) as numeric (9,2)) as avgPrice\n",
    "from p_home_sales\n",
    "group by view\n",
    "having avgPrice >= 350000\n",
    "order by view DESC\n",
    "\"\"\"\n",
    ").show(100)\n",
    "\n",
    "print(\"--- %s seconds ---\" % (time.time() - start_time))"
   ]
  },
  {
   "cell_type": "code",
   "execution_count": 18,
   "metadata": {
    "colab": {
     "base_uri": "https://localhost:8080/"
    },
    "id": "hjjYzQGjtbq8",
    "outputId": "e479150c-11ac-4577-d282-eee1b1f045fa"
   },
   "outputs": [
    {
     "data": {
      "text/plain": [
       "DataFrame[]"
      ]
     },
     "execution_count": 18,
     "metadata": {},
     "output_type": "execute_result"
    }
   ],
   "source": [
    "# 14. Uncache the home_sales temporary table.\n",
    "spark.sql(\"uncache table home_sales\")"
   ]
  },
  {
   "cell_type": "code",
   "execution_count": 19,
   "metadata": {
    "colab": {
     "base_uri": "https://localhost:8080/"
    },
    "id": "Sy9NBvO7tlmm",
    "outputId": "1d522569-8310-40f2-d701-b8230c35b911"
   },
   "outputs": [
    {
     "data": {
      "text/plain": [
       "False"
      ]
     },
     "execution_count": 19,
     "metadata": {},
     "output_type": "execute_result"
    }
   ],
   "source": [
    "# 15. Check if the home_sales is no longer cached\n",
    "spark.catalog.isCached(\"home_sales\")"
   ]
  }
 ],
 "metadata": {
  "colab": {
   "provenance": []
  },
  "gpuClass": "standard",
  "kernelspec": {
   "display_name": "dev",
   "language": "python",
   "name": "python3"
  },
  "language_info": {
   "codemirror_mode": {
    "name": "ipython",
    "version": 3
   },
   "file_extension": ".py",
   "mimetype": "text/x-python",
   "name": "python",
   "nbconvert_exporter": "python",
   "pygments_lexer": "ipython3",
   "version": "3.10.16"
  },
  "nteract": {
   "version": "0.28.0"
  }
 },
 "nbformat": 4,
 "nbformat_minor": 4
}
